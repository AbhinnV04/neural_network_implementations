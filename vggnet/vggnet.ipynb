{
 "cells": [
  {
   "cell_type": "markdown",
   "metadata": {},
   "source": [
    "# VGGNet (VGG-16)"
   ]
  },
  {
   "cell_type": "markdown",
   "metadata": {},
   "source": [
    "## Imports"
   ]
  },
  {
   "cell_type": "code",
   "execution_count": 1,
   "metadata": {},
   "outputs": [],
   "source": [
    "import tensorflow as tf\n",
    "from tensorflow import keras \n",
    "from keras.models import Sequential, Model \n",
    "from keras.layers import Dense, Flatten, Conv2D, MaxPooling2D, Dropout"
   ]
  },
  {
   "cell_type": "markdown",
   "metadata": {},
   "source": [
    "## Model"
   ]
  },
  {
   "cell_type": "code",
   "execution_count": 2,
   "metadata": {},
   "outputs": [
    {
     "name": "stdout",
     "output_type": "stream",
     "text": [
      "Model: \"sequential\"\n",
      "_________________________________________________________________\n",
      " Layer (type)                Output Shape              Param #   \n",
      "=================================================================\n",
      " conv2d (Conv2D)             (None, 200, 200, 64)      1792      \n",
      "                                                                 \n",
      " conv2d_1 (Conv2D)           (None, 200, 200, 64)      36928     \n",
      "                                                                 \n",
      " max_pooling2d (MaxPooling2  (None, 100, 100, 64)      0         \n",
      " D)                                                              \n",
      "                                                                 \n",
      " conv2d_2 (Conv2D)           (None, 100, 100, 128)     73856     \n",
      "                                                                 \n",
      " conv2d_3 (Conv2D)           (None, 100, 100, 128)     147584    \n",
      "                                                                 \n",
      " max_pooling2d_1 (MaxPoolin  (None, 50, 50, 128)       0         \n",
      " g2D)                                                            \n",
      "                                                                 \n",
      " conv2d_4 (Conv2D)           (None, 50, 50, 256)       295168    \n",
      "                                                                 \n",
      " conv2d_5 (Conv2D)           (None, 50, 50, 256)       590080    \n",
      "                                                                 \n",
      " max_pooling2d_2 (MaxPoolin  (None, 25, 25, 256)       0         \n",
      " g2D)                                                            \n",
      "                                                                 \n",
      " conv2d_6 (Conv2D)           (None, 25, 25, 512)       1180160   \n",
      "                                                                 \n",
      " conv2d_7 (Conv2D)           (None, 25, 25, 512)       2359808   \n",
      "                                                                 \n",
      " max_pooling2d_3 (MaxPoolin  (None, 12, 12, 512)       0         \n",
      " g2D)                                                            \n",
      "                                                                 \n",
      " conv2d_8 (Conv2D)           (None, 12, 12, 512)       2359808   \n",
      "                                                                 \n",
      " conv2d_9 (Conv2D)           (None, 12, 12, 512)       2359808   \n",
      "                                                                 \n",
      " max_pooling2d_4 (MaxPoolin  (None, 6, 6, 512)         0         \n",
      " g2D)                                                            \n",
      "                                                                 \n",
      " flatten (Flatten)           (None, 18432)             0         \n",
      "                                                                 \n",
      " dense (Dense)               (None, 4096)              75501568  \n",
      "                                                                 \n",
      " dense_1 (Dense)             (None, 4096)              16781312  \n",
      "                                                                 \n",
      " dense_2 (Dense)             (None, 1)                 4097      \n",
      "                                                                 \n",
      "=================================================================\n",
      "Total params: 101691969 (387.92 MB)\n",
      "Trainable params: 101691969 (387.92 MB)\n",
      "Non-trainable params: 0 (0.00 Byte)\n",
      "_________________________________________________________________\n"
     ]
    }
   ],
   "source": [
    "def add_conv_block(model, filters, num_layers=2):\n",
    "    for _ in range(num_layers):\n",
    "        model.add(Conv2D(filters, 3, activation='relu', padding='same'))\n",
    "    model.add(MaxPooling2D(2, strides=2))\n",
    "    return model \n",
    "\n",
    "def add_dense_block(model, units, activation, dropout_rate=None):\n",
    "    model.add(Dense(units, activation=activation))\n",
    "    if dropout_rate:\n",
    "        model.add(Dropout(dropout_rate))\n",
    "    return model\n",
    "\n",
    "def vgg_16_model(input_shape=(200, 200, 3)):\n",
    "    model = Sequential()\n",
    "    # Convolutional Layers\n",
    "    model.add(Conv2D(64, 3, activation='relu', padding='same', input_shape=input_shape))\n",
    "    model.add(Conv2D(64, 3, activation='relu', padding='same'))\n",
    "    model.add(MaxPooling2D(2, strides=2))\n",
    "    \n",
    "    model = add_conv_block(model, 128)\n",
    "    model = add_conv_block(model, 256)\n",
    "    model = add_conv_block(model, 512)\n",
    "    model = add_conv_block(model, 512)\n",
    "\n",
    "    model.add(Flatten())\n",
    "    # Fully Connected Layers\n",
    "    model = add_dense_block(model, 4096, 'relu')\n",
    "    model = add_dense_block(model, 4096, 'relu')\n",
    "    model = add_dense_block(model, 1, 'sigmoid')\n",
    "\n",
    "    return model\n",
    "\n",
    "model = vgg_16_model()\n",
    "model.summary()"
   ]
  },
  {
   "cell_type": "markdown",
   "metadata": {},
   "source": [
    "I do not dare run this again.\n",
    "Accidentally did it, 1 epoch time = 5 hours 31 minutes"
   ]
  },
  {
   "cell_type": "markdown",
   "metadata": {},
   "source": [
    "## Using Transfer Learning\n",
    "It is too scary to imagine my laptop trying to train any model with more than 3 layers on a dataset this big let alone a ConvNet this big with or without transfer learning."
   ]
  },
  {
   "cell_type": "code",
   "execution_count": 5,
   "metadata": {},
   "outputs": [
    {
     "name": "stdout",
     "output_type": "stream",
     "text": [
      "Model: \"sequential_1\"\n",
      "_________________________________________________________________\n",
      " Layer (type)                Output Shape              Param #   \n",
      "=================================================================\n",
      " vgg16 (Functional)          (None, 6, 6, 512)         14714688  \n",
      "                                                                 \n",
      " flatten_1 (Flatten)         (None, 18432)             0         \n",
      "                                                                 \n",
      " dense_3 (Dense)             (None, 512)               9437696   \n",
      "                                                                 \n",
      " dense_4 (Dense)             (None, 1)                 513       \n",
      "                                                                 \n",
      "=================================================================\n",
      "Total params: 24152897 (92.14 MB)\n",
      "Trainable params: 9438209 (36.00 MB)\n",
      "Non-trainable params: 14714688 (56.13 MB)\n",
      "_________________________________________________________________\n"
     ]
    }
   ],
   "source": [
    "from tensorflow.keras.applications import VGG16\n",
    "from tensorflow.keras.optimizers import Adam\n",
    "\n",
    "base_model = VGG16(weights='imagenet', include_top=False, input_shape=(200, 200, 3))\n",
    "\n",
    "for layer in base_model.layers:\n",
    "    layer.trainable = False\n",
    "\n",
    "model_2 = Sequential([\n",
    "    base_model,\n",
    "    Flatten(),\n",
    "    Dense(512, activation='relu'),\n",
    "    Dense(1, activation='sigmoid')  \n",
    "])\n",
    "\n",
    "model_2.compile(optimizer=Adam(learning_rate=0.0001), loss='binary_crossentropy', metrics=['accuracy'])\n",
    "model_2.summary()\n"
   ]
  }
 ],
 "metadata": {
  "kernelspec": {
   "display_name": "venv",
   "language": "python",
   "name": "python3"
  },
  "language_info": {
   "codemirror_mode": {
    "name": "ipython",
    "version": 3
   },
   "file_extension": ".py",
   "mimetype": "text/x-python",
   "name": "python",
   "nbconvert_exporter": "python",
   "pygments_lexer": "ipython3",
   "version": "3.11.4"
  }
 },
 "nbformat": 4,
 "nbformat_minor": 2
}
